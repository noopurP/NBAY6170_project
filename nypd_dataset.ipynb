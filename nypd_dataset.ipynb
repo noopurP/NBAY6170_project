{
 "cells": [
  {
   "cell_type": "code",
   "execution_count": null,
   "metadata": {},
   "outputs": [],
   "source": [
    "import pandas as pd\n",
    "import numpy as np\n",
    "import matplotlib.pyplot as plt\n",
    "import os\n",
    "import time\n",
    "import collections\n",
    "from datetime import datetime\n",
    "\n",
    "# df = pd.read_csv(\"dataset/complaint_data.csv\")\n",
    "# df_col_desc = pd.read_csv(\"dataset/column_desc.csv\")\n",
    "\n",
    "# # Data cleansing - removing null columns and data points\n",
    "\n",
    "# dropcols = [\"Lat_Lon\",\"X_COORD_CD\",\"Y_COORD_CD\",\"CMPLNT_NUM\"] # Redundant columns\n",
    "# for i in df.columns:\n",
    "#     if float(df[i].isnull().sum())/len(df)*100 > 20: # if more than 10% data is empty, clip the column\n",
    "#         dropcols.append(i)\n",
    "# df = df.drop(dropcols, axis=1)\n",
    "# df = df[~df.isnull().any(axis=1)]\n",
    "\n",
    "# # Parsing the DateTime column \n",
    "\n",
    "# df[\"RPT_DT\"] = df[\"RPT_DT\"].apply(lambda x: datetime.strptime(x, '%m/%d/%y')\n",
    "#                                   .strftime('%Y-%m-%d')).astype('datetime64[ns]')\n",
    "# df[\"CMPLNT_FR_DT\"] = df[\"CMPLNT_FR_DT\"].apply(lambda x: datetime.strptime(x, '%m/%d/%y')\n",
    "#                                               .strftime('%Y-%m-%d')).astype('datetime64[ns]')\n",
    "# df[\"CMPLNT_TO_DT\"] = df[\"CMPLNT_TO_DT\"].apply(lambda x: datetime.strptime(x, '%m/%d/%y')\n",
    "#                                               .strftime('%Y-%m-%d')).astype('datetime64[ns]')\n",
    "\n",
    "# df[\"RPT_DT\"] = pd.to_datetime(df[\"RPT_DT\"])\n",
    "# df[\"CMPLNT_FR_DT\"] = pd.to_datetime(df[\"CMPLNT_FR_DT\"])\n",
    "# df[\"CMPLNT_TO_DT\"] = pd.to_datetime(df[\"CMPLNT_TO_DT\"])\n",
    "\n",
    "# df[\"FR_TM_CAT\"] = df[\"CMPLNT_FR_TM\"].apply(lambda x: int(x.strip().split(':')[0])//6)\n",
    "# df[\"FR_TM_CAT\"] = df[\"CMPLNT_TO_TM\"].apply(lambda x: int(x.strip().split(':')[0])//6)\n",
    "\n",
    "# # Removing outliers\n",
    "\n",
    "# df = df[~(df['CMPLNT_TO_DT'] >= '2017-01-01')]"
   ]
  },
  {
   "cell_type": "code",
   "execution_count": null,
   "metadata": {
    "scrolled": true
   },
   "outputs": [],
   "source": [
    "# Compiling list of Offenses, their categories and key codes\n",
    "\n",
    "offense_code = {}\n",
    "offlist = df[\"OFNS_DESC\"].unique()\n",
    "for each in offlist:\n",
    "    key = df[df[\"OFNS_DESC\"]==each][\"KY_CD\"].unique()[0]\n",
    "    offense_code[key] = each\n",
    "\n",
    "print \"Offense Codes and Description \" + str(len(offense_code))\n",
    "print \"\"\n",
    "offense_code = collections.OrderedDict(sorted(offense_code.items()))\n",
    "for k,v in offense_code.items():\n",
    "    print k,v\n",
    "    \n",
    "# Repeating the same for Police Codes and Descriptions\n",
    "\n",
    "pd_code = {}\n",
    "pdlist = df[\"PD_DESC\"].unique()\n",
    "for each in pdlist:\n",
    "    key = df[df[\"PD_DESC\"]==each][\"PD_CD\"].unique()[0]\n",
    "    pd_code[key] = each\n",
    "\n",
    "print \"\"\n",
    "print \"Police Department Codes and Descriptions \" + str(len(pd_code))\n",
    "pd_code = collections.OrderedDict(sorted(pd_code.items()))\n",
    "for k,v in pd_code.items():\n",
    "    print k,v\n",
    "\n",
    "# INFERENCES\n",
    "\n",
    "# Using only KY_CD, PD_CD for analysis\n",
    "\n",
    "#df = df.drop(['PD_DESC','OFNS_DESC'], axis=1)"
   ]
  },
  {
   "cell_type": "code",
   "execution_count": 2,
   "metadata": {},
   "outputs": [],
   "source": [
    "# NOTES\n",
    "\n",
    "# CRM_ATPT_CPTD_CD - Generate Category variable (Successful, Failed, Attempted)\n",
    "# Types of Crime across Zipcodes - Start with LAW_CAT_CD\n",
    "# Precinct involved - look for patterns across this\n",
    "# Categorical variables include - CRM_ATPT_CPTD_CD, KY_CD, PD_CD, LAW_CAT_CD, ADDR_PCT_CD, \n",
    "#                                 BORO_NM, PREM_TYP_DESC, ZIPCODE\n",
    "# Numerical variables - Latitude, Longitude\n",
    "# TRY - KMODES clustering for mixed data\n",
    "# Check diff in dates of crime committed and reported\n",
    "# Drop columns PD_CD, PD_DESC, OFNS_DESC\n",
    "# Duration of crimes - 'CMPLNT_FR_TM','CMPLNT_TO_TM'"
   ]
  },
  {
   "cell_type": "code",
   "execution_count": null,
   "metadata": {
    "scrolled": false
   },
   "outputs": [],
   "source": [
    "# MACHINE LEARNING - GENERATING CATEGORY VARIABLES\n",
    "\n",
    "from sklearn import preprocessing\n",
    "le = preprocessing.LabelEncoder()\n",
    "le.fit(df['CRM_ATPT_CPTD_CD'])\n",
    "df['CRM_CAT'] = le.transform(df['CRM_ATPT_CPTD_CD'])\n",
    "\n",
    "le = preprocessing.LabelEncoder()\n",
    "le.fit(df['LAW_CAT_CD'])\n",
    "df['LAW_CAT'] = le.transform(df['LAW_CAT_CD'])\n",
    "\n",
    "le = preprocessing.LabelEncoder()\n",
    "le.fit(df['JURIS_DESC'])\n",
    "df['JURIS_CAT'] = le.transform(df['JURIS_DESC'])\n",
    "\n",
    "le = preprocessing.LabelEncoder()\n",
    "le.fit(df['BORO_NM'])\n",
    "df['BORO_CAT'] = le.transform(df['BORO_NM'])\n",
    "\n",
    "le = preprocessing.LabelEncoder()\n",
    "le.fit(df['PREM_TYP_DESC'])\n",
    "df['PREM_CAT'] = le.transform(df['PREM_TYP_DESC'])\n",
    "\n",
    "df['DATE_CAT'] = df['CMPLNT_FR_DT'].map(lambda x: x.month)\n",
    "df = df.reset_index(drop=True)"
   ]
  },
  {
   "cell_type": "code",
   "execution_count": null,
   "metadata": {
    "scrolled": true
   },
   "outputs": [],
   "source": [
    "# K-Means Clustering Algorithm\n",
    "from sklearn.neighbors import NearestNeighbors\n",
    "from kmodes.kprototypes import KPrototypes\n",
    "\n",
    "# KMeans Algorithm\n",
    "\n",
    "from sklearn.cluster import KMeans\n",
    "def clustering(train, usecols, n):\n",
    "    #kmeans = KMeans(n_clusters=n, random_state=0,).fit(train)\n",
    "    kproto = KPrototypes(n_clusters=n, init='Cao', verbose=2)\n",
    "    kproto.fit_predict(train, categorical=usecols)\n",
    "    return kproto.cluster_centroids_, kproto.labels_\n",
    "\n",
    "cols = [\"FR_TM_CAT\",\"DATE_CAT\",\"KY_CD\",\"CRM_CAT\",\"LAW_CAT\",\"BORO_CAT\",\"ADDR_PCT_CD\",\n",
    "        \"PREM_CAT\",\"Latitude\",\"Longitude\"]\n",
    "cat = [0,1,2,3,4,5,6,7] # as first n columns are categorical\n",
    "num_clusters = 3\n",
    "centers, labels = clustering(df[cols].as_matrix(),cat,num_clusters)\n",
    "print centers"
   ]
  },
  {
   "cell_type": "code",
   "execution_count": null,
   "metadata": {},
   "outputs": [],
   "source": [
    "# K-Means Clustering Algorithm\n",
    "from sklearn.neighbors import NearestNeighbors\n",
    "from kmodes.kprototypes import KPrototypes\n",
    "\n",
    "# KMeans Algorithm\n",
    "\n",
    "from sklearn.cluster import KMeans\n",
    "def clustering(train, usecols, n):\n",
    "    #kmeans = KMeans(n_clusters=n, random_state=0,).fit(train)\n",
    "    kproto = KPrototypes(n_clusters=n, init='Cao', verbose=2)\n",
    "    kproto.fit_predict(train, categorical=usecols)\n",
    "    return kproto.cluster_centroids_, kproto.labels_\n",
    "\n",
    "cols = [\"FR_TM_CAT\",\"DATE_CAT\",\"KY_CD\",\"CRM_CAT\",\"LAW_CAT\",\"BORO_CAT\",\"ADDR_PCT_CD\",\n",
    "        \"PREM_CAT\",\"Latitude\",\"Longitude\"]\n",
    "cat = [0,1,2,3,4,5,6,7] # as first n columns are categorical\n",
    "num_clusters = 2\n",
    "centers2, labels22 = clustering(df[cols].as_matrix(),cat,num_clusters)\n",
    "print centers2"
   ]
  },
  {
   "cell_type": "code",
   "execution_count": 23,
   "metadata": {},
   "outputs": [
    {
     "name": "stdout",
     "output_type": "stream",
     "text": [
      "Initialization method and algorithm are deterministic. Setting n_init to 1.\n",
      "Init: initializing centroids\n",
      "Init: initializing clusters\n",
      "Starting iterations...\n",
      "Run: 1, iteration: 1/100, moves: 115090, ncost: 62085656.4878\n",
      "Run: 1, iteration: 2/100, moves: 28809, ncost: 62085639.2394\n",
      "Run: 1, iteration: 3/100, moves: 532, ncost: 62085639.2349\n",
      "Run: 1, iteration: 4/100, moves: 3, ncost: 62085639.2349\n",
      "Run: 1, iteration: 5/100, moves: 0, ncost: 62085639.2349\n",
      "[array([[ 40.68276435, -73.95243167],\n",
      "       [ 40.74250527, -73.95166624],\n",
      "       [ 40.72073885, -73.87293915],\n",
      "       [ 40.81208904, -73.90180966]]), array([[   2.,   10.,  341.,    1.,    1.,    1.,   75.,   58.],\n",
      "       [   3.,    9.,  109.,    1.,    0.,    2.,   14.,   49.],\n",
      "       [   1.,   11.,  344.,    1.,    1.,    3.,  114.,   49.],\n",
      "       [   3.,   12.,  351.,    1.,    1.,    0.,   47.,   58.]])]\n"
     ]
    }
   ],
   "source": [
    "# K-Means Clustering Algorithm\n",
    "from sklearn.neighbors import NearestNeighbors\n",
    "from kmodes.kprototypes import KPrototypes\n",
    "\n",
    "# KMeans Algorithm\n",
    "\n",
    "from sklearn.cluster import KMeans\n",
    "def clustering(train, usecols, n):\n",
    "    #kmeans = KMeans(n_clusters=n, random_state=0,).fit(train)\n",
    "    kproto = KPrototypes(n_clusters=n, init='Cao', verbose=2)\n",
    "    kproto.fit_predict(train, categorical=usecols)\n",
    "    return kproto.cluster_centroids_, kproto.labels_\n",
    "\n",
    "cols = [\"FR_TM_CAT\",\"DATE_CAT\",\"KY_CD\",\"CRM_CAT\",\"LAW_CAT\",\"BORO_CAT\",\"ADDR_PCT_CD\",\n",
    "        \"PREM_CAT\",\"Latitude\",\"Longitude\"]\n",
    "cat = [0,1,2,3,4,5,6,7] # as first n columns are categorical\n",
    "num_clusters = 4\n",
    "centers4, labels4 = clustering(df[cols].as_matrix(),cat,num_clusters)\n",
    "print centers4"
   ]
  },
  {
   "cell_type": "code",
   "execution_count": 8,
   "metadata": {},
   "outputs": [
    {
     "name": "stdout",
     "output_type": "stream",
     "text": [
      "Initialization method and algorithm are deterministic. Setting n_init to 1.\n",
      "Init: initializing centroids\n",
      "Init: initializing clusters\n",
      "Starting iterations...\n",
      "Run: 1, iteration: 1/100, moves: 0, ncost: 1.55730820982e+11\n",
      "[array([[    83.        ],\n",
      "       [ 10782.39339821]]), array([['COMPLETED', '22'],\n",
      "       ['COMPLETED', '75']],\n",
      "      dtype='|S21')]\n"
     ]
    }
   ],
   "source": [
    "# K-Means Clustering Algorithm\n",
    "from sklearn.neighbors import NearestNeighbors\n",
    "from kmodes.kprototypes import KPrototypes\n",
    "\n",
    "# KMeans Algorithm\n",
    "\n",
    "from sklearn.cluster import KMeans\n",
    "def clustering(train, usecols, n):\n",
    "    #kmeans = KMeans(n_clusters=n, random_state=0,).fit(train)\n",
    "    kproto = KPrototypes(n_clusters=n, init='Cao', verbose=2)\n",
    "    kproto.fit_predict(train, categorical=usecols)\n",
    "    return kproto.cluster_centroids_, kproto.labels_\n",
    "\n",
    "cols = [\"CRM_CAT\",\"ADDR_PCT_CD\"]\n",
    "cat = [0,2] # as first n columns are categorical\n",
    "num_clusters = 2\n",
    "centers5, labels5 = clustering(df[cols].as_matrix(),cat,num_clusters)\n",
    "print centers5"
   ]
  },
  {
   "cell_type": "code",
   "execution_count": null,
   "metadata": {},
   "outputs": [],
   "source": [
    "df['labels'] = labels\n",
    "print df['labels'].value_counts()\n",
    "\n",
    "# 1. Plot number of crimes vs clusters\n",
    "# 2. Plot lat-long for every clusters and compare\n",
    "# 3. Plot number of crimes foiled (%) vs clusters\n",
    "# 4. Plot category of crimes for every clusters\n",
    "# 5. Plot category of premises for every clusters"
   ]
  },
  {
   "cell_type": "code",
   "execution_count": 10,
   "metadata": {},
   "outputs": [
    {
     "ename": "KeyError",
     "evalue": "'labels'",
     "output_type": "error",
     "traceback": [
      "\u001b[0;31m---------------------------------------------------------------------------\u001b[0m",
      "\u001b[0;31mKeyError\u001b[0m                                  Traceback (most recent call last)",
      "\u001b[0;32m<ipython-input-10-aafe2ad54cf3>\u001b[0m in \u001b[0;36m<module>\u001b[0;34m()\u001b[0m\n\u001b[0;32m----> 1\u001b[0;31m \u001b[0mdf\u001b[0m\u001b[0;34m[\u001b[0m\u001b[0;34m'labels'\u001b[0m\u001b[0;34m]\u001b[0m\u001b[0;34m.\u001b[0m\u001b[0mvalue_counts\u001b[0m\u001b[0;34m(\u001b[0m\u001b[0;34m)\u001b[0m\u001b[0;34m\u001b[0m\u001b[0m\n\u001b[0m",
      "\u001b[0;32m/Users/user/dev/NBAY6170_project/lib/python2.7/site-packages/pandas/core/frame.pyc\u001b[0m in \u001b[0;36m__getitem__\u001b[0;34m(self, key)\u001b[0m\n\u001b[1;32m   2137\u001b[0m             \u001b[0;32mreturn\u001b[0m \u001b[0mself\u001b[0m\u001b[0;34m.\u001b[0m\u001b[0m_getitem_multilevel\u001b[0m\u001b[0;34m(\u001b[0m\u001b[0mkey\u001b[0m\u001b[0;34m)\u001b[0m\u001b[0;34m\u001b[0m\u001b[0m\n\u001b[1;32m   2138\u001b[0m         \u001b[0;32melse\u001b[0m\u001b[0;34m:\u001b[0m\u001b[0;34m\u001b[0m\u001b[0m\n\u001b[0;32m-> 2139\u001b[0;31m             \u001b[0;32mreturn\u001b[0m \u001b[0mself\u001b[0m\u001b[0;34m.\u001b[0m\u001b[0m_getitem_column\u001b[0m\u001b[0;34m(\u001b[0m\u001b[0mkey\u001b[0m\u001b[0;34m)\u001b[0m\u001b[0;34m\u001b[0m\u001b[0m\n\u001b[0m\u001b[1;32m   2140\u001b[0m \u001b[0;34m\u001b[0m\u001b[0m\n\u001b[1;32m   2141\u001b[0m     \u001b[0;32mdef\u001b[0m \u001b[0m_getitem_column\u001b[0m\u001b[0;34m(\u001b[0m\u001b[0mself\u001b[0m\u001b[0;34m,\u001b[0m \u001b[0mkey\u001b[0m\u001b[0;34m)\u001b[0m\u001b[0;34m:\u001b[0m\u001b[0;34m\u001b[0m\u001b[0m\n",
      "\u001b[0;32m/Users/user/dev/NBAY6170_project/lib/python2.7/site-packages/pandas/core/frame.pyc\u001b[0m in \u001b[0;36m_getitem_column\u001b[0;34m(self, key)\u001b[0m\n\u001b[1;32m   2144\u001b[0m         \u001b[0;31m# get column\u001b[0m\u001b[0;34m\u001b[0m\u001b[0;34m\u001b[0m\u001b[0m\n\u001b[1;32m   2145\u001b[0m         \u001b[0;32mif\u001b[0m \u001b[0mself\u001b[0m\u001b[0;34m.\u001b[0m\u001b[0mcolumns\u001b[0m\u001b[0;34m.\u001b[0m\u001b[0mis_unique\u001b[0m\u001b[0;34m:\u001b[0m\u001b[0;34m\u001b[0m\u001b[0m\n\u001b[0;32m-> 2146\u001b[0;31m             \u001b[0;32mreturn\u001b[0m \u001b[0mself\u001b[0m\u001b[0;34m.\u001b[0m\u001b[0m_get_item_cache\u001b[0m\u001b[0;34m(\u001b[0m\u001b[0mkey\u001b[0m\u001b[0;34m)\u001b[0m\u001b[0;34m\u001b[0m\u001b[0m\n\u001b[0m\u001b[1;32m   2147\u001b[0m \u001b[0;34m\u001b[0m\u001b[0m\n\u001b[1;32m   2148\u001b[0m         \u001b[0;31m# duplicate columns & possible reduce dimensionality\u001b[0m\u001b[0;34m\u001b[0m\u001b[0;34m\u001b[0m\u001b[0m\n",
      "\u001b[0;32m/Users/user/dev/NBAY6170_project/lib/python2.7/site-packages/pandas/core/generic.pyc\u001b[0m in \u001b[0;36m_get_item_cache\u001b[0;34m(self, item)\u001b[0m\n\u001b[1;32m   1840\u001b[0m         \u001b[0mres\u001b[0m \u001b[0;34m=\u001b[0m \u001b[0mcache\u001b[0m\u001b[0;34m.\u001b[0m\u001b[0mget\u001b[0m\u001b[0;34m(\u001b[0m\u001b[0mitem\u001b[0m\u001b[0;34m)\u001b[0m\u001b[0;34m\u001b[0m\u001b[0m\n\u001b[1;32m   1841\u001b[0m         \u001b[0;32mif\u001b[0m \u001b[0mres\u001b[0m \u001b[0;32mis\u001b[0m \u001b[0mNone\u001b[0m\u001b[0;34m:\u001b[0m\u001b[0;34m\u001b[0m\u001b[0m\n\u001b[0;32m-> 1842\u001b[0;31m             \u001b[0mvalues\u001b[0m \u001b[0;34m=\u001b[0m \u001b[0mself\u001b[0m\u001b[0;34m.\u001b[0m\u001b[0m_data\u001b[0m\u001b[0;34m.\u001b[0m\u001b[0mget\u001b[0m\u001b[0;34m(\u001b[0m\u001b[0mitem\u001b[0m\u001b[0;34m)\u001b[0m\u001b[0;34m\u001b[0m\u001b[0m\n\u001b[0m\u001b[1;32m   1843\u001b[0m             \u001b[0mres\u001b[0m \u001b[0;34m=\u001b[0m \u001b[0mself\u001b[0m\u001b[0;34m.\u001b[0m\u001b[0m_box_item_values\u001b[0m\u001b[0;34m(\u001b[0m\u001b[0mitem\u001b[0m\u001b[0;34m,\u001b[0m \u001b[0mvalues\u001b[0m\u001b[0;34m)\u001b[0m\u001b[0;34m\u001b[0m\u001b[0m\n\u001b[1;32m   1844\u001b[0m             \u001b[0mcache\u001b[0m\u001b[0;34m[\u001b[0m\u001b[0mitem\u001b[0m\u001b[0;34m]\u001b[0m \u001b[0;34m=\u001b[0m \u001b[0mres\u001b[0m\u001b[0;34m\u001b[0m\u001b[0m\n",
      "\u001b[0;32m/Users/user/dev/NBAY6170_project/lib/python2.7/site-packages/pandas/core/internals.pyc\u001b[0m in \u001b[0;36mget\u001b[0;34m(self, item, fastpath)\u001b[0m\n\u001b[1;32m   3836\u001b[0m \u001b[0;34m\u001b[0m\u001b[0m\n\u001b[1;32m   3837\u001b[0m             \u001b[0;32mif\u001b[0m \u001b[0;32mnot\u001b[0m \u001b[0misna\u001b[0m\u001b[0;34m(\u001b[0m\u001b[0mitem\u001b[0m\u001b[0;34m)\u001b[0m\u001b[0;34m:\u001b[0m\u001b[0;34m\u001b[0m\u001b[0m\n\u001b[0;32m-> 3838\u001b[0;31m                 \u001b[0mloc\u001b[0m \u001b[0;34m=\u001b[0m \u001b[0mself\u001b[0m\u001b[0;34m.\u001b[0m\u001b[0mitems\u001b[0m\u001b[0;34m.\u001b[0m\u001b[0mget_loc\u001b[0m\u001b[0;34m(\u001b[0m\u001b[0mitem\u001b[0m\u001b[0;34m)\u001b[0m\u001b[0;34m\u001b[0m\u001b[0m\n\u001b[0m\u001b[1;32m   3839\u001b[0m             \u001b[0;32melse\u001b[0m\u001b[0;34m:\u001b[0m\u001b[0;34m\u001b[0m\u001b[0m\n\u001b[1;32m   3840\u001b[0m                 \u001b[0mindexer\u001b[0m \u001b[0;34m=\u001b[0m \u001b[0mnp\u001b[0m\u001b[0;34m.\u001b[0m\u001b[0marange\u001b[0m\u001b[0;34m(\u001b[0m\u001b[0mlen\u001b[0m\u001b[0;34m(\u001b[0m\u001b[0mself\u001b[0m\u001b[0;34m.\u001b[0m\u001b[0mitems\u001b[0m\u001b[0;34m)\u001b[0m\u001b[0;34m)\u001b[0m\u001b[0;34m[\u001b[0m\u001b[0misna\u001b[0m\u001b[0;34m(\u001b[0m\u001b[0mself\u001b[0m\u001b[0;34m.\u001b[0m\u001b[0mitems\u001b[0m\u001b[0;34m)\u001b[0m\u001b[0;34m]\u001b[0m\u001b[0;34m\u001b[0m\u001b[0m\n",
      "\u001b[0;32m/Users/user/dev/NBAY6170_project/lib/python2.7/site-packages/pandas/core/indexes/base.pyc\u001b[0m in \u001b[0;36mget_loc\u001b[0;34m(self, key, method, tolerance)\u001b[0m\n\u001b[1;32m   2522\u001b[0m                 \u001b[0;32mreturn\u001b[0m \u001b[0mself\u001b[0m\u001b[0;34m.\u001b[0m\u001b[0m_engine\u001b[0m\u001b[0;34m.\u001b[0m\u001b[0mget_loc\u001b[0m\u001b[0;34m(\u001b[0m\u001b[0mkey\u001b[0m\u001b[0;34m)\u001b[0m\u001b[0;34m\u001b[0m\u001b[0m\n\u001b[1;32m   2523\u001b[0m             \u001b[0;32mexcept\u001b[0m \u001b[0mKeyError\u001b[0m\u001b[0;34m:\u001b[0m\u001b[0;34m\u001b[0m\u001b[0m\n\u001b[0;32m-> 2524\u001b[0;31m                 \u001b[0;32mreturn\u001b[0m \u001b[0mself\u001b[0m\u001b[0;34m.\u001b[0m\u001b[0m_engine\u001b[0m\u001b[0;34m.\u001b[0m\u001b[0mget_loc\u001b[0m\u001b[0;34m(\u001b[0m\u001b[0mself\u001b[0m\u001b[0;34m.\u001b[0m\u001b[0m_maybe_cast_indexer\u001b[0m\u001b[0;34m(\u001b[0m\u001b[0mkey\u001b[0m\u001b[0;34m)\u001b[0m\u001b[0;34m)\u001b[0m\u001b[0;34m\u001b[0m\u001b[0m\n\u001b[0m\u001b[1;32m   2525\u001b[0m \u001b[0;34m\u001b[0m\u001b[0m\n\u001b[1;32m   2526\u001b[0m         \u001b[0mindexer\u001b[0m \u001b[0;34m=\u001b[0m \u001b[0mself\u001b[0m\u001b[0;34m.\u001b[0m\u001b[0mget_indexer\u001b[0m\u001b[0;34m(\u001b[0m\u001b[0;34m[\u001b[0m\u001b[0mkey\u001b[0m\u001b[0;34m]\u001b[0m\u001b[0;34m,\u001b[0m \u001b[0mmethod\u001b[0m\u001b[0;34m=\u001b[0m\u001b[0mmethod\u001b[0m\u001b[0;34m,\u001b[0m \u001b[0mtolerance\u001b[0m\u001b[0;34m=\u001b[0m\u001b[0mtolerance\u001b[0m\u001b[0;34m)\u001b[0m\u001b[0;34m\u001b[0m\u001b[0m\n",
      "\u001b[0;32mpandas/_libs/index.pyx\u001b[0m in \u001b[0;36mpandas._libs.index.IndexEngine.get_loc\u001b[0;34m()\u001b[0m\n",
      "\u001b[0;32mpandas/_libs/index.pyx\u001b[0m in \u001b[0;36mpandas._libs.index.IndexEngine.get_loc\u001b[0;34m()\u001b[0m\n",
      "\u001b[0;32mpandas/_libs/hashtable_class_helper.pxi\u001b[0m in \u001b[0;36mpandas._libs.hashtable.PyObjectHashTable.get_item\u001b[0;34m()\u001b[0m\n",
      "\u001b[0;32mpandas/_libs/hashtable_class_helper.pxi\u001b[0m in \u001b[0;36mpandas._libs.hashtable.PyObjectHashTable.get_item\u001b[0;34m()\u001b[0m\n",
      "\u001b[0;31mKeyError\u001b[0m: 'labels'"
     ]
    }
   ],
   "source": [
    "df['labels'].value_counts()"
   ]
  },
  {
   "cell_type": "code",
   "execution_count": 9,
   "metadata": {},
   "outputs": [],
   "source": [
    "cluster0 = df[df['labels']==0]\n",
    "cluster1 = df[df['labels']==1]\n",
    "cluster2 = df[df['labels']==2]"
   ]
  },
  {
   "cell_type": "code",
   "execution_count": 8,
   "metadata": {},
   "outputs": [],
   "source": [
    "df = pd.read_csv(\"dataset/complaint_data.csv\")"
   ]
  },
  {
   "cell_type": "code",
   "execution_count": 9,
   "metadata": {},
   "outputs": [],
   "source": [
    "df = pd.read_csv(\"dataset/complaint_data.csv\")"
   ]
  },
  {
   "cell_type": "code",
   "execution_count": 11,
   "metadata": {},
   "outputs": [
    {
     "data": {
      "text/plain": [
       "COMPLETED    607661\n",
       "ATTEMPTED     10531\n",
       "Name: CRM_ATPT_CPTD_CD, dtype: int64"
      ]
     },
     "execution_count": 11,
     "metadata": {},
     "output_type": "execute_result"
    }
   ],
   "source": [
    "df.CRM_ATPT_CPTD_CD.value_counts()"
   ]
  },
  {
   "cell_type": "code",
   "execution_count": null,
   "metadata": {},
   "outputs": [],
   "source": [
    "f = []\n",
    "m = []\n",
    "v = []\n",
    "\n",
    "for i in (df[\"ADDR_PCT_CD\"].unique()):\n",
    "    tot = len(df[df[\"ADDR_PCT_CD\"]==i])\n",
    "    val = float(len(df[(df[\"ADDR_PCT_CD\"]==i) & (df[\"LAW_CAT_CD\"]==\"FELONY\")]))\n",
    "    f.append(val/tot)\n",
    "\n",
    "for i in (df[\"ADDR_PCT_CD\"].unique()):\n",
    "    tot = len(df[df[\"ADDR_PCT_CD\"]==i])\n",
    "    val = float(len(df[(df[\"ADDR_PCT_CD\"]==i) & (df[\"LAW_CAT_CD\"]==\"MISDEMEANOR\")]))\n",
    "    m.append(val/tot)\n",
    "\n",
    "for i in (df[\"ADDR_PCT_CD\"].unique()):\n",
    "    tot = len(df[df[\"ADDR_PCT_CD\"]==i])\n",
    "    val = float(len(df[(df[\"ADDR_PCT_CD\"]==i) & (df[\"LAW_CAT_CD\"]==\"VIOLATION\")]))\n",
    "    v.append(val/tot)\n",
    "\n",
    "f = np.array(f)\n",
    "m = np.array(m)\n",
    "v = np.array(v)\n",
    "\n",
    "np.std(f - f.mean())"
   ]
  },
  {
   "cell_type": "code",
   "execution_count": null,
   "metadata": {},
   "outputs": [],
   "source": [
    "\n",
    "plt.plot(np.arange(len(f)),f - f.mean(), color = \"blue\")\n",
    "plt.plot(np.arange(len(m)),m - m.mean(), color = \"red\")\n",
    "plt.plot(np.arange(len(v)),v - v.mean(), color = \"green\")\n",
    "plt.show()"
   ]
  },
  {
   "cell_type": "code",
   "execution_count": null,
   "metadata": {},
   "outputs": [],
   "source": [
    "np.std(f-f.mean(), ddof=2)"
   ]
  },
  {
   "cell_type": "code",
   "execution_count": null,
   "metadata": {},
   "outputs": [],
   "source": [
    "# NOTE 1: THIS IS THROUGH THE WHOLE DATASET, PLOTTING CRIMES AND \n",
    "# CATEGORIES OF CRIME - FELONY/MISDEMEANOR/VIOLATION ACROSS PRECINCT NUMBERS\n",
    "\n",
    "f = []\n",
    "for i in (df[\"ADDR_PCT_CD\"].unique()):\n",
    "    tot = len(df[df[\"ADDR_PCT_CD\"]==i])\n",
    "    val = float(len(df[(df[\"ADDR_PCT_CD\"]==i) & (df[\"LAW_CAT_CD\"]==\"FELONY\")]))\n",
    "    f.append(val/tot)\n",
    "\n",
    "m = []\n",
    "for i in (df[\"ADDR_PCT_CD\"].unique()):\n",
    "    tot = len(df[df[\"ADDR_PCT_CD\"]==i])\n",
    "    val = float(len(df[(df[\"ADDR_PCT_CD\"]==i) & (df[\"LAW_CAT_CD\"]==\"MISDEMEANOR\")]))\n",
    "    m.append(val/tot)\n",
    "\n",
    "v = []\n",
    "for i in (df[\"ADDR_PCT_CD\"].unique()):\n",
    "    tot = len(df[df[\"ADDR_PCT_CD\"]==i])\n",
    "    val = float(len(df[(df[\"ADDR_PCT_CD\"]==i) & (df[\"LAW_CAT_CD\"]==\"VIOLATION\")]))\n",
    "    v.append(val/tot)\n",
    "\n",
    "f = np.array(f)\n",
    "m = np.array(m)\n",
    "v = np.array(v)\n",
    "print (\"Absolute values for each category of crime across Categories - \")\n",
    "plt.plot(np.arange(len(f)),f, label=\"Felony\")\n",
    "plt.plot(np.arange(len(m)),m, label=\"Misdemeanor\")\n",
    "plt.plot(np.arange(len(v)),v, label=\"Violation\")\n",
    "plt.legend(bbox_to_anchor=(1.05, 1), loc=2, borderaxespad=0.)\n",
    "plt.show()\n",
    "\n",
    "print (\"Normalized values - \")\n",
    "plt.plot(np.arange(len(f)),f-f.mean(), label=\"Felony\")\n",
    "plt.plot(np.arange(len(m)),m-m.mean(), label=\"Misdemeanor\")\n",
    "plt.plot(np.arange(len(v)),v-v.mean(), label=\"Violation\")\n",
    "plt.legend(bbox_to_anchor=(1.05, 1), loc=2, borderaxespad=0.)\n",
    "plt.show()\n",
    "\n",
    "m1 = f.mean()\n",
    "m2 = m.mean()\n",
    "m3 = v.mean()\n",
    "s1 = f.std()\n",
    "s2 = m.std()\n",
    "s3 = v.std()\n",
    "a1,a2,a3 = [],[],[]\n",
    "for i in range(len(l1)):\n",
    "    if l1[i] > m1 + s1*2 or l1[i] < m1 - s1*2:\n",
    "        a1.append(l1[i])\n",
    "    if l2[i] > m2 + s2*2 or l2[i] < m2 - s2*2:\n",
    "        a2.append(l2[i])\n",
    "    if l3[i] > m3 + s3*2 or l3[i] < m3 - s3*2:\n",
    "        a3.append(l3[i])\n",
    "\n",
    "print (\"Looking only at best and worst performers - \")\n",
    "plt.plot(np.arange(len(a1)),a1, label=\"Felony\")\n",
    "plt.plot(np.arange(len(a2)),a2, label=\"Misdemeanor\")\n",
    "plt.plot(np.arange(len(a3)),a3, label=\"Violation\")\n",
    "plt.legend(bbox_to_anchor=(1.05, 1), loc=2, borderaxespad=0.)\n",
    "plt.show()"
   ]
  },
  {
   "cell_type": "code",
   "execution_count": null,
   "metadata": {},
   "outputs": [],
   "source": [
    "b"
   ]
  },
  {
   "cell_type": "code",
   "execution_count": null,
   "metadata": {},
   "outputs": [],
   "source": [
    "# NOTE 1: THIS IS THROUGH THE WHOLE DATASET, PLOTTING CRIMES AND \n",
    "# CATEGORIES OF CRIME - FELONY/MISDEMEANOR/VIOLATION ACROSS PRECINCT NUMBERS\n",
    "\n",
    "b = {}\n",
    "for i in df.BORO_CAT.unique():\n",
    "    b[i] = df[df[\"BORO_CAT\"] == i][\"BORO_NM\"].unique()[0]\n",
    "    \n",
    "f = []\n",
    "for i in (df[\"BORO_CAT\"].unique()):\n",
    "    tot = len(df[df[\"BORO_CAT\"]==i])\n",
    "    val = float(len(df[(df[\"BORO_CAT\"]==i) & (df[\"LAW_CAT_CD\"]==\"FELONY\")]))\n",
    "    f.append(val/tot)\n",
    "\n",
    "m = []\n",
    "for i in (df[\"BORO_CAT\"].unique()):\n",
    "    tot = len(df[df[\"BORO_CAT\"]==i])\n",
    "    val = float(len(df[(df[\"BORO_CAT\"]==i) & (df[\"LAW_CAT_CD\"]==\"MISDEMEANOR\")]))\n",
    "    m.append(val/tot)\n",
    "\n",
    "v = []\n",
    "for i in (df[\"BORO_CAT\"].unique()):\n",
    "    tot = len(df[df[\"BORO_CAT\"]==i])\n",
    "    val = float(len(df[(df[\"BORO_CAT\"]==i) & (df[\"LAW_CAT_CD\"]==\"VIOLATION\")]))\n",
    "    v.append(val/tot)\n",
    "\n",
    "f = np.array(f)\n",
    "m = np.array(m)\n",
    "v = np.array(v)\n",
    "print (\"Absolute values for each category of crime across Categories - \")\n",
    "plt.plot(np.arange(len(f)),f, label=\"Felony\")\n",
    "plt.plot(np.arange(len(m)),m, label=\"Misdemeanor\")\n",
    "plt.plot(np.arange(len(v)),v, label=\"Violation\")\n",
    "plt.legend(bbox_to_anchor=(1.05, 1), loc=2, borderaxespad=0.)\n",
    "plt.show()\n",
    "\n",
    "print (\"Normalized values - \")\n",
    "plt.plot(np.arange(len(f)),f-f.mean(), label=\"Felony\")\n",
    "plt.plot(np.arange(len(m)),m-m.mean(), label=\"Misdemeanor\")\n",
    "plt.plot(np.arange(len(v)),v-v.mean(), label=\"Violation\")\n",
    "plt.legend(bbox_to_anchor=(1.05, 1), loc=2, borderaxespad=0.)\n",
    "plt.show()\n",
    "\n",
    "m1 = f.mean()\n",
    "m2 = m.mean()\n",
    "m3 = v.mean()\n",
    "s1 = f.std()\n",
    "s2 = m.std()\n",
    "s3 = v.std()\n",
    "a1,a2,a3 = [],[],[]\n",
    "for i in range(len(l1)):\n",
    "    if l1[i] > m1 + s1*2 or l1[i] < m1 - s1*2:\n",
    "        a1.append(l1[i])\n",
    "    if l2[i] > m2 + s2*2 or l2[i] < m2 - s2*2:\n",
    "        a2.append(l2[i])\n",
    "    if l3[i] > m3 + s3*2 or l3[i] < m3 - s3*2:\n",
    "        a3.append(l3[i])\n",
    "\n",
    "print (\"Looking only at best and worst performers - \")\n",
    "plt.plot(np.arange(len(a1)),a1, label=\"Felony\")\n",
    "plt.plot(np.arange(len(a2)),a2, label=\"Misdemeanor\")\n",
    "plt.plot(np.arange(len(a3)),a3, label=\"Violation\")\n",
    "plt.legend(bbox_to_anchor=(1.05, 1), loc=2, borderaxespad=0.)\n",
    "plt.show()"
   ]
  },
  {
   "cell_type": "code",
   "execution_count": null,
   "metadata": {},
   "outputs": [],
   "source": [
    "df_tmp = df[df['BORO_CAT'] == 3]\n",
    "df_tmp = df_tmp['LAW_CAT_CD'].value_counts() / df_tmp.shape[0]\n",
    "df_tmp.plot(kind='barh', stacked=True)\n",
    "plt.show()"
   ]
  },
  {
   "cell_type": "code",
   "execution_count": 4,
   "metadata": {},
   "outputs": [
    {
     "data": {
      "text/plain": [
       "Index([u'CMPLNT_FR_DT', u'CMPLNT_FR_TM', u'CMPLNT_TO_DT', u'CMPLNT_TO_TM',\n",
       "       u'RPT_DT', u'KY_CD', u'OFNS_DESC', u'PD_CD', u'PD_DESC',\n",
       "       u'CRM_ATPT_CPTD_CD', u'LAW_CAT_CD', u'JURIS_DESC', u'BORO_NM',\n",
       "       u'ADDR_PCT_CD', u'PREM_TYP_DESC', u'Latitude', u'Longitude', u'ZIPCODE',\n",
       "       u'FR_TM_CAT', u'CRM_CAT', u'LAW_CAT', u'JURIS_CAT', u'BORO_CAT',\n",
       "       u'PREM_CAT', u'DATE_CAT'],\n",
       "      dtype='object')"
      ]
     },
     "execution_count": 4,
     "metadata": {},
     "output_type": "execute_result"
    }
   ],
   "source": [
    "df.columns"
   ]
  },
  {
   "cell_type": "code",
   "execution_count": 5,
   "metadata": {},
   "outputs": [],
   "source": [
    "df_cross = pd.crosstab([df['BORO_NM'], df['LAW_CAT_CD']], df['CRM_ATPT_CPTD_CD'])\n",
    "df_cross['TOTAL'] = df_cross.sum(axis=1)\n",
    "df_cross['SUCCESS_RATE'] = df_cross['COMPLETED'] / df_cross['TOTAL']"
   ]
  },
  {
   "cell_type": "code",
   "execution_count": 12,
   "metadata": {},
   "outputs": [],
   "source": [
    "df_cross = pd.crosstab([df['BORO_NM'], df['LAW_CAT_CD']], df['CRM_ATPT_CPTD_CD'])\n",
    "total = df_cross.sum(axis=1)\n",
    "df_cross['SUCCESS_RATE'] = df_cross['COMPLETED'] / total"
   ]
  },
  {
   "cell_type": "code",
   "execution_count": 13,
   "metadata": {},
   "outputs": [
    {
     "data": {
      "text/html": [
       "<div>\n",
       "<style scoped>\n",
       "    .dataframe tbody tr th:only-of-type {\n",
       "        vertical-align: middle;\n",
       "    }\n",
       "\n",
       "    .dataframe tbody tr th {\n",
       "        vertical-align: top;\n",
       "    }\n",
       "\n",
       "    .dataframe thead th {\n",
       "        text-align: right;\n",
       "    }\n",
       "</style>\n",
       "<table border=\"1\" class=\"dataframe\">\n",
       "  <thead>\n",
       "    <tr style=\"text-align: right;\">\n",
       "      <th></th>\n",
       "      <th>CRM_ATPT_CPTD_CD</th>\n",
       "      <th>ATTEMPTED</th>\n",
       "      <th>COMPLETED</th>\n",
       "      <th>SUCCESS_RATE</th>\n",
       "    </tr>\n",
       "    <tr>\n",
       "      <th>BORO_NM</th>\n",
       "      <th>LAW_CAT_CD</th>\n",
       "      <th></th>\n",
       "      <th></th>\n",
       "      <th></th>\n",
       "    </tr>\n",
       "  </thead>\n",
       "  <tbody>\n",
       "    <tr>\n",
       "      <th rowspan=\"3\" valign=\"top\">BRONX</th>\n",
       "      <th>FELONY</th>\n",
       "      <td>1201</td>\n",
       "      <td>28793</td>\n",
       "      <td>0.959959</td>\n",
       "    </tr>\n",
       "    <tr>\n",
       "      <th>MISDEMEANOR</th>\n",
       "      <td>372</td>\n",
       "      <td>58227</td>\n",
       "      <td>0.993652</td>\n",
       "    </tr>\n",
       "    <tr>\n",
       "      <th>VIOLATION</th>\n",
       "      <td>24</td>\n",
       "      <td>12861</td>\n",
       "      <td>0.998137</td>\n",
       "    </tr>\n",
       "    <tr>\n",
       "      <th rowspan=\"3\" valign=\"top\">BROOKLYN</th>\n",
       "      <th>FELONY</th>\n",
       "      <td>2021</td>\n",
       "      <td>50428</td>\n",
       "      <td>0.961467</td>\n",
       "    </tr>\n",
       "    <tr>\n",
       "      <th>MISDEMEANOR</th>\n",
       "      <td>700</td>\n",
       "      <td>82091</td>\n",
       "      <td>0.991545</td>\n",
       "    </tr>\n",
       "    <tr>\n",
       "      <th>VIOLATION</th>\n",
       "      <td>64</td>\n",
       "      <td>22252</td>\n",
       "      <td>0.997132</td>\n",
       "    </tr>\n",
       "    <tr>\n",
       "      <th rowspan=\"3\" valign=\"top\">MANHATTAN</th>\n",
       "      <th>FELONY</th>\n",
       "      <td>1434</td>\n",
       "      <td>37566</td>\n",
       "      <td>0.963231</td>\n",
       "    </tr>\n",
       "    <tr>\n",
       "      <th>MISDEMEANOR</th>\n",
       "      <td>862</td>\n",
       "      <td>66968</td>\n",
       "      <td>0.987292</td>\n",
       "    </tr>\n",
       "    <tr>\n",
       "      <th>VIOLATION</th>\n",
       "      <td>55</td>\n",
       "      <td>13672</td>\n",
       "      <td>0.995993</td>\n",
       "    </tr>\n",
       "    <tr>\n",
       "      <th rowspan=\"3\" valign=\"top\">QUEENS</th>\n",
       "      <th>FELONY</th>\n",
       "      <td>1402</td>\n",
       "      <td>35431</td>\n",
       "      <td>0.961936</td>\n",
       "    </tr>\n",
       "    <tr>\n",
       "      <th>MISDEMEANOR</th>\n",
       "      <td>401</td>\n",
       "      <td>54758</td>\n",
       "      <td>0.992730</td>\n",
       "    </tr>\n",
       "    <tr>\n",
       "      <th>VIOLATION</th>\n",
       "      <td>28</td>\n",
       "      <td>14683</td>\n",
       "      <td>0.998097</td>\n",
       "    </tr>\n",
       "    <tr>\n",
       "      <th rowspan=\"3\" valign=\"top\">STATEN ISLAND</th>\n",
       "      <th>FELONY</th>\n",
       "      <td>174</td>\n",
       "      <td>5467</td>\n",
       "      <td>0.969154</td>\n",
       "    </tr>\n",
       "    <tr>\n",
       "      <th>MISDEMEANOR</th>\n",
       "      <td>120</td>\n",
       "      <td>12859</td>\n",
       "      <td>0.990754</td>\n",
       "    </tr>\n",
       "    <tr>\n",
       "      <th>VIOLATION</th>\n",
       "      <td>9</td>\n",
       "      <td>4407</td>\n",
       "      <td>0.997962</td>\n",
       "    </tr>\n",
       "  </tbody>\n",
       "</table>\n",
       "</div>"
      ],
      "text/plain": [
       "CRM_ATPT_CPTD_CD           ATTEMPTED  COMPLETED  SUCCESS_RATE\n",
       "BORO_NM       LAW_CAT_CD                                     \n",
       "BRONX         FELONY            1201      28793      0.959959\n",
       "              MISDEMEANOR        372      58227      0.993652\n",
       "              VIOLATION           24      12861      0.998137\n",
       "BROOKLYN      FELONY            2021      50428      0.961467\n",
       "              MISDEMEANOR        700      82091      0.991545\n",
       "              VIOLATION           64      22252      0.997132\n",
       "MANHATTAN     FELONY            1434      37566      0.963231\n",
       "              MISDEMEANOR        862      66968      0.987292\n",
       "              VIOLATION           55      13672      0.995993\n",
       "QUEENS        FELONY            1402      35431      0.961936\n",
       "              MISDEMEANOR        401      54758      0.992730\n",
       "              VIOLATION           28      14683      0.998097\n",
       "STATEN ISLAND FELONY             174       5467      0.969154\n",
       "              MISDEMEANOR        120      12859      0.990754\n",
       "              VIOLATION            9       4407      0.997962"
      ]
     },
     "execution_count": 13,
     "metadata": {},
     "output_type": "execute_result"
    }
   ],
   "source": [
    "df_cross"
   ]
  },
  {
   "cell_type": "code",
   "execution_count": 4,
   "metadata": {},
   "outputs": [
    {
     "data": {
      "text/html": [
       "<div>\n",
       "<style scoped>\n",
       "    .dataframe tbody tr th:only-of-type {\n",
       "        vertical-align: middle;\n",
       "    }\n",
       "\n",
       "    .dataframe tbody tr th {\n",
       "        vertical-align: top;\n",
       "    }\n",
       "\n",
       "    .dataframe thead th {\n",
       "        text-align: right;\n",
       "    }\n",
       "</style>\n",
       "<table border=\"1\" class=\"dataframe\">\n",
       "  <thead>\n",
       "    <tr style=\"text-align: right;\">\n",
       "      <th></th>\n",
       "      <th>CRM_ATPT_CPTD_CD</th>\n",
       "      <th>ATTEMPTED</th>\n",
       "      <th>COMPLETED</th>\n",
       "      <th>TOTAL</th>\n",
       "      <th>SUCCESS_RATE</th>\n",
       "    </tr>\n",
       "    <tr>\n",
       "      <th>BORO_NM</th>\n",
       "      <th>LAW_CAT_CD</th>\n",
       "      <th></th>\n",
       "      <th></th>\n",
       "      <th></th>\n",
       "      <th></th>\n",
       "    </tr>\n",
       "  </thead>\n",
       "  <tbody>\n",
       "    <tr>\n",
       "      <th rowspan=\"3\" valign=\"top\">BRONX</th>\n",
       "      <th>FELONY</th>\n",
       "      <td>1201</td>\n",
       "      <td>28793</td>\n",
       "      <td>29994</td>\n",
       "      <td>0.959959</td>\n",
       "    </tr>\n",
       "    <tr>\n",
       "      <th>MISDEMEANOR</th>\n",
       "      <td>372</td>\n",
       "      <td>58227</td>\n",
       "      <td>58599</td>\n",
       "      <td>0.993652</td>\n",
       "    </tr>\n",
       "    <tr>\n",
       "      <th>VIOLATION</th>\n",
       "      <td>24</td>\n",
       "      <td>12861</td>\n",
       "      <td>12885</td>\n",
       "      <td>0.998137</td>\n",
       "    </tr>\n",
       "    <tr>\n",
       "      <th rowspan=\"3\" valign=\"top\">BROOKLYN</th>\n",
       "      <th>FELONY</th>\n",
       "      <td>2021</td>\n",
       "      <td>50428</td>\n",
       "      <td>52449</td>\n",
       "      <td>0.961467</td>\n",
       "    </tr>\n",
       "    <tr>\n",
       "      <th>MISDEMEANOR</th>\n",
       "      <td>700</td>\n",
       "      <td>82091</td>\n",
       "      <td>82791</td>\n",
       "      <td>0.991545</td>\n",
       "    </tr>\n",
       "    <tr>\n",
       "      <th>VIOLATION</th>\n",
       "      <td>64</td>\n",
       "      <td>22252</td>\n",
       "      <td>22316</td>\n",
       "      <td>0.997132</td>\n",
       "    </tr>\n",
       "    <tr>\n",
       "      <th rowspan=\"3\" valign=\"top\">MANHATTAN</th>\n",
       "      <th>FELONY</th>\n",
       "      <td>1434</td>\n",
       "      <td>37566</td>\n",
       "      <td>39000</td>\n",
       "      <td>0.963231</td>\n",
       "    </tr>\n",
       "    <tr>\n",
       "      <th>MISDEMEANOR</th>\n",
       "      <td>862</td>\n",
       "      <td>66968</td>\n",
       "      <td>67830</td>\n",
       "      <td>0.987292</td>\n",
       "    </tr>\n",
       "    <tr>\n",
       "      <th>VIOLATION</th>\n",
       "      <td>55</td>\n",
       "      <td>13672</td>\n",
       "      <td>13727</td>\n",
       "      <td>0.995993</td>\n",
       "    </tr>\n",
       "    <tr>\n",
       "      <th rowspan=\"3\" valign=\"top\">QUEENS</th>\n",
       "      <th>FELONY</th>\n",
       "      <td>1402</td>\n",
       "      <td>35431</td>\n",
       "      <td>36833</td>\n",
       "      <td>0.961936</td>\n",
       "    </tr>\n",
       "    <tr>\n",
       "      <th>MISDEMEANOR</th>\n",
       "      <td>401</td>\n",
       "      <td>54758</td>\n",
       "      <td>55159</td>\n",
       "      <td>0.992730</td>\n",
       "    </tr>\n",
       "    <tr>\n",
       "      <th>VIOLATION</th>\n",
       "      <td>28</td>\n",
       "      <td>14683</td>\n",
       "      <td>14711</td>\n",
       "      <td>0.998097</td>\n",
       "    </tr>\n",
       "    <tr>\n",
       "      <th rowspan=\"3\" valign=\"top\">STATEN ISLAND</th>\n",
       "      <th>FELONY</th>\n",
       "      <td>174</td>\n",
       "      <td>5467</td>\n",
       "      <td>5641</td>\n",
       "      <td>0.969154</td>\n",
       "    </tr>\n",
       "    <tr>\n",
       "      <th>MISDEMEANOR</th>\n",
       "      <td>120</td>\n",
       "      <td>12859</td>\n",
       "      <td>12979</td>\n",
       "      <td>0.990754</td>\n",
       "    </tr>\n",
       "    <tr>\n",
       "      <th>VIOLATION</th>\n",
       "      <td>9</td>\n",
       "      <td>4407</td>\n",
       "      <td>4416</td>\n",
       "      <td>0.997962</td>\n",
       "    </tr>\n",
       "  </tbody>\n",
       "</table>\n",
       "</div>"
      ],
      "text/plain": [
       "CRM_ATPT_CPTD_CD           ATTEMPTED  COMPLETED  TOTAL  SUCCESS_RATE\n",
       "BORO_NM       LAW_CAT_CD                                            \n",
       "BRONX         FELONY            1201      28793  29994      0.959959\n",
       "              MISDEMEANOR        372      58227  58599      0.993652\n",
       "              VIOLATION           24      12861  12885      0.998137\n",
       "BROOKLYN      FELONY            2021      50428  52449      0.961467\n",
       "              MISDEMEANOR        700      82091  82791      0.991545\n",
       "              VIOLATION           64      22252  22316      0.997132\n",
       "MANHATTAN     FELONY            1434      37566  39000      0.963231\n",
       "              MISDEMEANOR        862      66968  67830      0.987292\n",
       "              VIOLATION           55      13672  13727      0.995993\n",
       "QUEENS        FELONY            1402      35431  36833      0.961936\n",
       "              MISDEMEANOR        401      54758  55159      0.992730\n",
       "              VIOLATION           28      14683  14711      0.998097\n",
       "STATEN ISLAND FELONY             174       5467   5641      0.969154\n",
       "              MISDEMEANOR        120      12859  12979      0.990754\n",
       "              VIOLATION            9       4407   4416      0.997962"
      ]
     },
     "execution_count": 4,
     "metadata": {},
     "output_type": "execute_result"
    }
   ],
   "source": [
    "df_cross"
   ]
  },
  {
   "cell_type": "code",
   "execution_count": null,
   "metadata": {},
   "outputs": [],
   "source": [
    "df_cross['SUCCESS_RATE'].plot(kind='bar')\n",
    "plt.show()"
   ]
  },
  {
   "cell_type": "code",
   "execution_count": 4,
   "metadata": {},
   "outputs": [
    {
     "data": {
      "image/png": "[encoded data removed]",
      "text/plain": [
       "<matplotlib.figure.Figure at 0x118a49cd0>"
      ]
     },
     "metadata": {},
     "output_type": "display_data"
    }
   ],
   "source": [
    "# multiple x-axis group by\n",
    "pd.crosstab([df['LAW_CAT_CD'], df['BORO_NM']], df['CRM_ATPT_CPTD_CD']).plot(kind='bar', stacked=True)\n",
    "plt.show()"
   ]
  },
  {
   "cell_type": "code",
   "execution_count": 6,
   "metadata": {},
   "outputs": [
    {
     "data": {
      "text/plain": [
       "BORO_NM        LAW_CAT_CD \n",
       "BRONX          FELONY         29994\n",
       "               MISDEMEANOR    58599\n",
       "               VIOLATION      12885\n",
       "BROOKLYN       FELONY         52449\n",
       "               MISDEMEANOR    82791\n",
       "               VIOLATION      22316\n",
       "MANHATTAN      FELONY         39000\n",
       "               MISDEMEANOR    67830\n",
       "               VIOLATION      13727\n",
       "QUEENS         FELONY         36833\n",
       "               MISDEMEANOR    55159\n",
       "               VIOLATION      14711\n",
       "STATEN ISLAND  FELONY          5641\n",
       "               MISDEMEANOR    12979\n",
       "               VIOLATION       4416\n",
       "Name: CRM_ATPT_CPTD_CD, dtype: int64"
      ]
     },
     "execution_count": 6,
     "metadata": {},
     "output_type": "execute_result"
    }
   ],
   "source": [
    "df.groupby(['BORO_NM', 'LAW_CAT_CD'])['CRM_ATPT_CPTD_CD'].agg('count')"
   ]
  },
  {
   "cell_type": "code",
   "execution_count": 139,
   "metadata": {},
   "outputs": [
    {
     "data": {
      "image/png": "[encoded data removed]",
      "text/plain": [
       "<matplotlib.figure.Figure at 0x110e1e3d0>"
      ]
     },
     "metadata": {},
     "output_type": "display_data"
    }
   ],
   "source": [
    "# multiple x-axis group by\n",
    "tmp_df = df[df['BORO_NM']=='QUEENS']\n",
    "pd.crosstab([tmp_df['LAW_CAT_CD']], tmp_df['CRM_ATPT_CPTD_CD']).plot(kind='bar', stacked=True)\n",
    "plt.show()"
   ]
  },
  {
   "cell_type": "code",
   "execution_count": null,
   "metadata": {},
   "outputs": [],
   "source": [
    "df.groupby('LAW_CAT_CD')['CRM_ATPT_CPTD_CD']"
   ]
  },
  {
   "cell_type": "code",
   "execution_count": null,
   "metadata": {},
   "outputs": [],
   "source": [
    "f = df[(df['LAW_CAT_CD']=='FELONY')]['BORO_CAT'].value_counts() / df.shape[0]\n",
    "print f\n",
    "f = f.to_frame()\n",
    "f.columns = ['CRIME_RATE']\n",
    "\n",
    "f['BORO'] = f.index\n",
    "f['BORO'] = f['BORO'].map(b)\n",
    "\n",
    "f = f[['BORO','CRIME_RATE']]"
   ]
  },
  {
   "cell_type": "code",
   "execution_count": null,
   "metadata": {},
   "outputs": [],
   "source": [
    "f"
   ]
  },
  {
   "cell_type": "code",
   "execution_count": 118,
   "metadata": {},
   "outputs": [
    {
     "data": {
      "image/png": "[encoded data removed]",
      "text/plain": [
       "<matplotlib.figure.Figure at 0x111c72e90>"
      ]
     },
     "metadata": {},
     "output_type": "display_data"
    }
   ],
   "source": [
    "f.plot(kind='bar',x='BORO',y='CRIME_RATE')\n",
    "plt.show()"
   ]
  },
  {
   "cell_type": "code",
   "execution_count": 105,
   "metadata": {},
   "outputs": [
    {
     "data": {
      "text/plain": [
       "'BRONX'"
      ]
     },
     "execution_count": 105,
     "metadata": {},
     "output_type": "execute_result"
    }
   ],
   "source": [
    "b[0]"
   ]
  }
 ],
 "metadata": {
  "anaconda-cloud": {},
  "kernelspec": {
   "display_name": "Python 2",
   "language": "python",
   "name": "python2"
  },
  "language_info": {
   "codemirror_mode": {
    "name": "ipython",
    "version": 2
   },
   "file_extension": ".py",
   "mimetype": "text/x-python",
   "name": "python",
   "nbconvert_exporter": "python",
   "pygments_lexer": "ipython2",
   "version": "2.7.13"
  }
 },
 "nbformat": 4,
 "nbformat_minor": 1
}
